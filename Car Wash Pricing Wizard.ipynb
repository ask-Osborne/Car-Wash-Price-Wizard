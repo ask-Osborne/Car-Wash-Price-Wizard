{
 "cells": [
  {
   "cell_type": "code",
   "execution_count": 2,
   "id": "a38ba7b9",
   "metadata": {},
   "outputs": [],
   "source": [
    "import pandas as pd\n",
    "from sklearn.model_selection import train_test_split\n",
    "from sklearn.linear_model import LinearRegression\n",
    "from sklearn.metrics import mean_squared_error"
   ]
  },
  {
   "cell_type": "markdown",
   "id": "c7ede440",
   "metadata": {},
   "source": [
    "# Define Pricing Dictionary"
   ]
  },
  {
   "cell_type": "code",
   "execution_count": 4,
   "id": "6c6cea41",
   "metadata": {},
   "outputs": [],
   "source": [
    "prices = {\n",
    "    'sedan': {'bodywash': 14, 'engine': 14, 'underwash': 14, 'interior cleaning': 120, 'steam cleaning': 250},\n",
    "    'SUV': {'bodywash': 20, 'engine': 20, 'underwash': 20, 'interior cleaning': 150, 'steam cleaning': 300},\n",
    "    'truck': {'bodywash': 100, 'engine': 100, 'underwash': 100, 'interior cleaning': 100, 'steam cleaning': 200},\n",
    "    'urvan': {'bodywash': 30, 'engine': 30, 'underwash': 30, 'interior cleaning': 300, 'steam cleaning': 400}}"
   ]
  },
  {
   "cell_type": "markdown",
   "id": "0388c4d4",
   "metadata": {},
   "source": [
    "\n",
    "# Function to Calculate Total Price\n"
   ]
  },
  {
   "cell_type": "markdown",
   "id": "7028842a",
   "metadata": {},
   "source": [
    "This function takes the car type and a list of selected services as input, then calculates the total price in .\n",
    "It handles potential KeyError exceptions by returning None if the car type or service is not found in the pricing dictionary.\n",
    "def"
   ]
  },
  {
   "cell_type": "code",
   "execution_count": 5,
   "id": "7e8c8357",
   "metadata": {},
   "outputs": [
    {
     "name": "stdout",
     "output_type": "stream",
     "text": [
      "enter car type here: sedan\n",
      "enter service type here: bodywash\n",
      "The price for bodywash on a sedan is: $14\n"
     ]
    }
   ],
   "source": [
    "def calculate_price(car_type, service_type):\n",
    "    try:\n",
    "        return prices[car_type.lower()][service_type.lower()]\n",
    "    except KeyError:\n",
    "        return None  # Handle cases where car_type or service_type is not found\n",
    "\n",
    "# Example usage\n",
    "car_type = input(\"enter car type here: \")\n",
    "service_type = input(\"enter service type here: \")\n",
    "\n",
    "price = calculate_price(car_type, service_type)\n",
    "\n",
    "if price is not None:\n",
    "    print(f'The price for {service_type} on a {car_type} is: ${price}')\n",
    "else:\n",
    "    print('Invalid car type or service type.')"
   ]
  },
  {
   "cell_type": "markdown",
   "id": "aa5fbefd",
   "metadata": {},
   "source": [
    "# Handling Multiple Services for a Single Car"
   ]
  },
  {
   "cell_type": "markdown",
   "id": "df903fb1",
   "metadata": {},
   "source": [
    "In this section of the code, we address scenarios where a customer can choose multiple services for a single car. The user is prompted to input the type of car (sedan, SUV, truck, urvan) and a list of desired services (bodywash, engine, interior cleaning, etc.)"
   ]
  },
  {
   "cell_type": "code",
   "execution_count": 6,
   "id": "2c29d8b9",
   "metadata": {},
   "outputs": [
    {
     "name": "stdout",
     "output_type": "stream",
     "text": [
      "Enter the type of car (sedan, SUV, truck, urvan): sedan\n",
      "Enter the services separated by commas (e.g., bodywash, engine, interior cleaning): bodywash\n",
      "The total price for the selected services on a sedan is: $14\n"
     ]
    }
   ],
   "source": [
    "# Define the pricing dictionary\n",
    "prices = {\n",
    "    'sedan': {'bodywash': 14, 'engine': 14, 'underwash': 14, 'interior cleaning': 120, 'steam cleaning': 250},\n",
    "    'SUV': {'bodywash': 20, 'engine': 20, 'underwash': 20, 'interior cleaning': 150, 'steam cleaning': 300},\n",
    "    'truck': {'bodywash': 100, 'engine': 100, 'underwash': 100, 'interior cleaning': 100, 'steam cleaning': 200},\n",
    "    'urvan': {'bodywash': 30, 'engine': 30, 'underwash': 30, 'interior cleaning': 300, 'steam cleaning': 400},\n",
    "}\n",
    "\n",
    "def calculate_total_price(car_type, selected_services):\n",
    "    try:\n",
    "        total_price = sum(prices[car_type.lower()][service.lower()] for service in selected_services)\n",
    "        return total_price\n",
    "    except KeyError:\n",
    "        return None  # Handle cases where car_type or service_type is not found\n",
    "\n",
    "# Get user input\n",
    "car_type = input(\"Enter the type of car (sedan, SUV, truck, urvan): \").lower()\n",
    "selected_services = input(\"Enter the services separated by commas (e.g., bodywash, engine, interior cleaning): \").split(', ')\n",
    "\n",
    "# Calculate the total price\n",
    "total_price = calculate_total_price(car_type, selected_services)\n",
    "\n",
    "# Display the result\n",
    "if total_price is not None:\n",
    "    print(f'The total price for the selected services on a {car_type} is: ${total_price}')\n",
    "else:\n",
    "    print('Invalid car type or service type.')\n"
   ]
  },
  {
   "cell_type": "markdown",
   "id": "2ca760fb",
   "metadata": {},
   "source": [
    "# Function to Calculate Discounted Price\n",
    "This function takes the total price and a discount percentage as input, then calculates the discounted price."
   ]
  },
  {
   "cell_type": "code",
   "execution_count": 7,
   "id": "0cc015e1",
   "metadata": {},
   "outputs": [
    {
     "name": "stdout",
     "output_type": "stream",
     "text": [
      "Enter the type of car (sedan, SUV, truck, urvan): sedan\n",
      "Enter the services separated by commas (e.g., bodywash, engine, interior cleaning): bodywash\n",
      "The total price for the selected services on a sedan is: ₵14.00 (with 0% discount)\n"
     ]
    }
   ],
   "source": [
    "# Define the pricing dictionary in Ghanaian Cedis\n",
    "prices_ghs = {\n",
    "    'sedan': {'bodywash': 14, 'engine': 14, 'underwash': 14, 'interior cleaning': 120, 'steam cleaning': 250},\n",
    "    'SUV': {'bodywash': 20, 'engine': 20, 'underwash': 20, 'interior cleaning': 150, 'steam cleaning': 300},\n",
    "    'truck': {'bodywash': 100, 'engine': 100, 'underwash': 100, 'interior cleaning': 100, 'steam cleaning': 200},\n",
    "    'urvan': {'bodywash': 30, 'engine': 30, 'underwash': 30, 'interior cleaning': 300, 'steam cleaning': 400},\n",
    "}\n",
    "\n",
    "def calculate_total_price_in_ghs(car_type, selected_services):\n",
    "    try:\n",
    "        total_price_ghs = sum(prices_ghs[car_type.lower()][service.lower()] for service in selected_services)\n",
    "        return total_price_ghs\n",
    "    except KeyError:\n",
    "        return None  # Handle cases where car_type or service_type is not found\n",
    "\n",
    "# Get user input\n",
    "car_type = input(\"Enter the type of car (sedan, SUV, truck, urvan): \").lower()\n",
    "selected_services = input(\"Enter the services separated by commas (e.g., bodywash, engine, interior cleaning): \").split(', ')\n",
    "\n",
    "# Calculate the total price in GHS without discount\n",
    "total_price_ghs = calculate_total_price_in_ghs(car_type, selected_services)\n",
    "\n",
    "# Apply discounts based on the number of services\n",
    "num_services = len(selected_services)\n",
    "discount_percentage = 0\n",
    "\n",
    "if num_services == 2:\n",
    "    discount_percentage = 10\n",
    "elif num_services >= 3:\n",
    "    discount_percentage = 15\n",
    "\n",
    "# Calculate discounted price\n",
    "discount_amount = (discount_percentage / 100) * total_price_ghs\n",
    "discounted_price = total_price_ghs - discount_amount\n",
    "\n",
    "# Display the result in GHS with the Cedi symbol\n",
    "if total_price_ghs is not None:\n",
    "    print(f'The total price for the selected services on a {car_type} is: ₵{discounted_price:.2f} (with {discount_percentage}% discount)')\n",
    "else:\n",
    "    print('Invalid car type or service type.')\n"
   ]
  },
  {
   "cell_type": "markdown",
   "id": "0e5e4864",
   "metadata": {},
   "source": [
    "# Handling Multiple Cars and Services"
   ]
  },
  {
   "cell_type": "markdown",
   "id": "ab6b5f9b",
   "metadata": {},
   "source": [
    "This section efficiently manages multiple cars and their respective services, providing a comprehensive overview of the total price and discounts applied for each car."
   ]
  },
  {
   "cell_type": "markdown",
   "id": "35089d6d",
   "metadata": {},
   "source": [
    "In this section of the code, the program also evaluates the grand total of the selected services for all cars and determines if the customer is eligible for any rewards. The rewards are based on specific criteria related to the grand total.\n"
   ]
  },
  {
   "cell_type": "code",
   "execution_count": 15,
   "id": "4113e882",
   "metadata": {},
   "outputs": [
    {
     "name": "stdout",
     "output_type": "stream",
     "text": [
      "Enter the number of cars: 3\n",
      "\n",
      "Enter the type of car for Car 1 (sedan, SUV, truck, urvan): sedan\n",
      "Enter the services separated by commas (e.g., bodywash, engine, interior cleaning) for Car 1: bodywash, engine\n",
      "\n",
      "Enter the type of car for Car 2 (sedan, SUV, truck, urvan): urvan\n",
      "Enter the services separated by commas (e.g., bodywash, engine, interior cleaning) for Car 2: bodywash, engine\n",
      "\n",
      "Enter the type of car for Car 3 (sedan, SUV, truck, urvan): truck\n",
      "Enter the services separated by commas (e.g., bodywash, engine, interior cleaning) for Car 3: bodywash, engine\n",
      "\n",
      "Total price for Car sedan with services ['bodywash', 'engine'] is: ₵25.20 (with 10% discount)\n",
      "\n",
      "Total price for Car urvan with services ['bodywash', 'engine'] is: ₵54.00 (with 10% discount)\n",
      "\n",
      "Total price for Car truck with services ['bodywash', 'engine'] is: ₵180.00 (with 10% discount)\n",
      "\n",
      "Grand Total for all cars: ₵259.20\n",
      "Congratulations! You win a pendrive.\n"
     ]
    }
   ],
   "source": [
    "# Define the pricing dictionary in Ghanaian Cedis\n",
    "prices_ghs = {\n",
    "    'sedan': {'bodywash': 14, 'engine': 14, 'underwash': 14, 'interior cleaning': 120, 'steam cleaning': 250},\n",
    "    'SUV': {'bodywash': 20, 'engine': 20, 'underwash': 20, 'interior cleaning': 150, 'steam cleaning': 300},\n",
    "    'truck': {'bodywash': 100, 'engine': 100, 'underwash': 100, 'interior cleaning': 100, 'steam cleaning': 200},\n",
    "    'urvan': {'bodywash': 30, 'engine': 30, 'underwash': 30, 'interior cleaning': 300, 'steam cleaning': 400},\n",
    "}\n",
    "\n",
    "def calculate_total_price_in_ghs(car_type, selected_services):\n",
    "    try:\n",
    "        total_price_ghs = sum(prices_ghs[car_type.lower()][service.lower()] for service in selected_services)\n",
    "        return total_price_ghs\n",
    "    except KeyError:\n",
    "        return None  # Handle cases where car_type or service_type is not found\n",
    "\n",
    "# Function to calculate total price with discount\n",
    "def calculate_discounted_price(total_price, discount_percentage):\n",
    "    discount_amount = (discount_percentage / 100) * total_price\n",
    "    discounted_price = total_price - discount_amount\n",
    "    return discounted_price\n",
    "\n",
    "# Get user input for the number of cars\n",
    "num_cars = int(input(\"Enter the number of cars: \"))\n",
    "cars_data = []\n",
    "\n",
    "# Input for each car\n",
    "for i in range(num_cars):\n",
    "    car_type = input(f\"\\nEnter the type of car for Car {i + 1} (sedan, SUV, truck, urvan): \").lower()\n",
    "    selected_services = input(f\"Enter the services separated by commas (e.g., bodywash, engine, interior cleaning) for Car {i + 1}: \").split(', ')\n",
    "    cars_data.append({'car_type': car_type, 'services': selected_services})\n",
    "\n",
    "# Calculate total price and apply discounts for each car\n",
    "grand_total = 0\n",
    "\n",
    "for car_data in cars_data:\n",
    "    total_price_ghs = calculate_total_price_in_ghs(car_data['car_type'], car_data['services'])\n",
    "\n",
    "    # Apply discounts based on the number of services\n",
    "    num_services = len(car_data['services'])\n",
    "    discount_percentage = 0\n",
    "\n",
    "    if num_services == 2:\n",
    "        discount_percentage = 10\n",
    "    elif num_services >= 3:\n",
    "        discount_percentage = 15\n",
    "\n",
    "    # Calculate discounted price\n",
    "    discounted_price = calculate_discounted_price(total_price_ghs, discount_percentage)\n",
    "\n",
    "    # Display the result for each car\n",
    "    if total_price_ghs is not None:\n",
    "        print(f'\\nTotal price for Car {car_data[\"car_type\"]} with services {car_data[\"services\"]} is: ₵{discounted_price:.2f} (with {discount_percentage}% discount)')\n",
    "        grand_total += discounted_price\n",
    "    else:\n",
    "        print(f'\\nInvalid car type or service type for Car {car_data[\"car_type\"]}.')\n",
    "\n",
    "# Display the grand total\n",
    "print(f'\\nGrand Total for all cars: ₵{grand_total:.2f}')\n",
    "\n",
    "# Check for rewards based on the grand total\n",
    "if grand_total > 300:\n",
    "    print(\"Congratulations! You win a fuel coupon.\")\n",
    "elif grand_total > 200:\n",
    "    print(\"Congratulations! You win a pendrive.\")\n",
    "else:\n",
    "    print(\"Thank you for choosing our services. No additional rewards this time.\")\n"
   ]
  },
  {
   "cell_type": "code",
   "execution_count": null,
   "id": "453bc059",
   "metadata": {},
   "outputs": [],
   "source": []
  },
  {
   "cell_type": "code",
   "execution_count": null,
   "id": "8cbe8f91",
   "metadata": {},
   "outputs": [],
   "source": []
  }
 ],
 "metadata": {
  "kernelspec": {
   "display_name": "Python 3 (ipykernel)",
   "language": "python",
   "name": "python3"
  },
  "language_info": {
   "codemirror_mode": {
    "name": "ipython",
    "version": 3
   },
   "file_extension": ".py",
   "mimetype": "text/x-python",
   "name": "python",
   "nbconvert_exporter": "python",
   "pygments_lexer": "ipython3",
   "version": "3.11.5"
  }
 },
 "nbformat": 4,
 "nbformat_minor": 5
}
